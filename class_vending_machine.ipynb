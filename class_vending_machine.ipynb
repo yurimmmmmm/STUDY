{
  "nbformat": 4,
  "nbformat_minor": 0,
  "metadata": {
    "colab": {
      "provenance": [],
      "authorship_tag": "ABX9TyOP+MToGSvO4IgF5jVeEEIM",
      "include_colab_link": true
    },
    "kernelspec": {
      "name": "python3",
      "display_name": "Python 3"
    },
    "language_info": {
      "name": "python"
    }
  },
  "cells": [
    {
      "cell_type": "markdown",
      "metadata": {
        "id": "view-in-github",
        "colab_type": "text"
      },
      "source": [
        "<a href=\"https://colab.research.google.com/github/yurimmmmmm/STUDY/blob/main/class_vending_machine.ipynb\" target=\"_parent\"><img src=\"https://colab.research.google.com/assets/colab-badge.svg\" alt=\"Open In Colab\"/></a>"
      ]
    },
    {
      "cell_type": "code",
      "execution_count": 2,
      "metadata": {
        "id": "18UK4RIfkukn"
      },
      "outputs": [],
      "source": [
        "class V_M:\n",
        "    def __init__(self, nC, pC, nM, pM):\n",
        "        self.n_C=nC\n",
        "        self.p_C=pC\n",
        "        self.n_M=nM\n",
        "        self.p_M=pM\n",
        "        self.money=0\n",
        "\n",
        "    def C_s(self, nC):\n",
        "        self.n_C-=nC\n",
        "        self.Cp(nC)\n",
        "\n",
        "    def M_s(self, nM):\n",
        "        self.n_M-=nM\n",
        "        self.Mp(nM)\n",
        "\n",
        "    def Cp(self, nC):\n",
        "        self.money+=self.p_C*nC\n",
        "\n",
        "    def Mp(self, nM):\n",
        "        self.money+=self.p_M*nM\n",
        "\n",
        "    def get(self):\n",
        "        print(\"n_C:\", self.n_C, \"n_M\", self.n_M, \"money:\", self.money)"
      ]
    },
    {
      "cell_type": "code",
      "source": [
        "A=V_M(10,1000,10,800)\n",
        "A.C_s(2)\n",
        "A.M_s(2)\n",
        "A.get()\n",
        "B=V_M(5,1200,8,900)\n",
        "B.C_s(1)\n",
        "B.M_s(2)\n",
        "B.get()"
      ],
      "metadata": {
        "colab": {
          "base_uri": "https://localhost:8080/"
        },
        "id": "ArUsgpBVkzL0",
        "outputId": "e47ef783-6467-4e31-c23b-e933d3efc38f"
      },
      "execution_count": 3,
      "outputs": [
        {
          "output_type": "stream",
          "name": "stdout",
          "text": [
            "n_C: 8 n_M 8 money: 3600\n",
            "n_C: 4 n_M 6 money: 3000\n"
          ]
        }
      ]
    }
  ]
}