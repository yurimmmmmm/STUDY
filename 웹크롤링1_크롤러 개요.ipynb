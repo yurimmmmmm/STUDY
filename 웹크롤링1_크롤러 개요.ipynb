{
  "cells": [
    {
      "cell_type": "markdown",
      "metadata": {
        "id": "view-in-github",
        "colab_type": "text"
      },
      "source": [
        "<a href=\"https://colab.research.google.com/github/yurimmmmmm/STUDY/blob/main/%EC%9B%B9%ED%81%AC%EB%A1%A4%EB%A7%811_%ED%81%AC%EB%A1%A4%EB%9F%AC%20%EA%B0%9C%EC%9A%94.ipynb\" target=\"_parent\"><img src=\"https://colab.research.google.com/assets/colab-badge.svg\" alt=\"Open In Colab\"/></a>"
      ]
    },
    {
      "cell_type": "code",
      "execution_count": null,
      "id": "f5b9a3b3",
      "metadata": {
        "id": "f5b9a3b3",
        "outputId": "c952976e-c93a-406a-df53-cb72bcd2c9c6"
      },
      "outputs": [
        {
          "name": "stdout",
          "output_type": "stream",
          "text": [
            "자바 기초 프로그래밍 강좌를 완강했습니다.\n",
            "컴잘알에 오신 것을 환영합니다.\n"
          ]
        }
      ],
      "source": [
        "import requests\n",
        "from bs4 import BeautifulSoup\n",
        "\n",
        "#특정 url에 접속하는 요청 (request) 객체를 생성\n",
        "request = requests.get(\"http://www.dowellcomputer.com/main.jsp\")\n",
        "\n",
        "#접속한 이후의 웹사이트 소스코드를 추출\n",
        "html = request.text\n",
        "\n",
        "#HTML 소스코드를 파이썬 객체로 변환\n",
        "soup = BeautifulSoup(html, 'html.parser')\n",
        "\n",
        "#<a> 태그 포함하는 요소를 추출합니다.\n",
        "links= soup.select('td > a')\n",
        "\n",
        "#모든 link에 하나씩 접근합니다.\n",
        "for link in links:\n",
        "        #링크가 href 속성을 가지고 있다면(외부로 연결된다면)\n",
        "        if link.has_attr('href'):\n",
        "            #href 속성의 값으로 notice라는 문자열이 포함되어 있다면\n",
        "            if link.get('href').find('notice') !=-1:\n",
        "                print(link.text)\n"
      ]
    },
    {
      "cell_type": "code",
      "execution_count": null,
      "id": "e5b40a93",
      "metadata": {
        "id": "e5b40a93"
      },
      "outputs": [],
      "source": []
    }
  ],
  "metadata": {
    "kernelspec": {
      "display_name": "Python 3 (ipykernel)",
      "language": "python",
      "name": "python3"
    },
    "language_info": {
      "codemirror_mode": {
        "name": "ipython",
        "version": 3
      },
      "file_extension": ".py",
      "mimetype": "text/x-python",
      "name": "python",
      "nbconvert_exporter": "python",
      "pygments_lexer": "ipython3",
      "version": "3.11.2"
    },
    "colab": {
      "provenance": [],
      "include_colab_link": true
    }
  },
  "nbformat": 4,
  "nbformat_minor": 5
}