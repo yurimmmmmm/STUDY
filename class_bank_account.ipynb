{
  "nbformat": 4,
  "nbformat_minor": 0,
  "metadata": {
    "colab": {
      "provenance": [],
      "authorship_tag": "ABX9TyPnCv00AZz9aYKFsQPzJoOK",
      "include_colab_link": true
    },
    "kernelspec": {
      "name": "python3",
      "display_name": "Python 3"
    },
    "language_info": {
      "name": "python"
    }
  },
  "cells": [
    {
      "cell_type": "markdown",
      "metadata": {
        "id": "view-in-github",
        "colab_type": "text"
      },
      "source": [
        "<a href=\"https://colab.research.google.com/github/yurimmmmmm/STUDY/blob/main/class_bank_account.ipynb\" target=\"_parent\"><img src=\"https://colab.research.google.com/assets/colab-badge.svg\" alt=\"Open In Colab\"/></a>"
      ]
    },
    {
      "cell_type": "code",
      "execution_count": 2,
      "metadata": {
        "id": "tqzxbc9klCm6"
      },
      "outputs": [],
      "source": [
        "class Bank_a:\n",
        "    def __init__(self,name,money):\n",
        "        self.name=name\n",
        "        self.money=money\n",
        "    def in_(self,money):\n",
        "        self.money+=money\n",
        "        self.print_money()\n",
        "    def out_(self,money):\n",
        "        self.money-=money\n",
        "        self.print_money()\n",
        "    def print_money(self):\n",
        "        print(self.name, self.money)"
      ]
    },
    {
      "cell_type": "code",
      "source": [
        "##main##\n",
        "A=Bank_a('k',1000)\n",
        "A.print_money()\n",
        "A.in_(100)\n",
        "A.out_(200)\n",
        "B=Bank_a('j',1000)\n",
        "B.print_money()\n",
        "B.in_(100)\n",
        "B.out_(200)"
      ],
      "metadata": {
        "colab": {
          "base_uri": "https://localhost:8080/"
        },
        "id": "xgI-NZAslIKZ",
        "outputId": "bcef43fa-309b-4c48-b52c-bb579cdceee5"
      },
      "execution_count": 3,
      "outputs": [
        {
          "output_type": "stream",
          "name": "stdout",
          "text": [
            "k 1000\n",
            "k 1100\n",
            "k 900\n",
            "j 1000\n",
            "j 1100\n",
            "j 900\n"
          ]
        }
      ]
    }
  ]
}