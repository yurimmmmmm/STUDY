{
  "cells": [
    {
      "cell_type": "markdown",
      "metadata": {
        "id": "view-in-github",
        "colab_type": "text"
      },
      "source": [
        "<a href=\"https://colab.research.google.com/github/yurimmmmmm/STUDY/blob/main/%EC%9B%B9%ED%81%AC%EB%A1%A4%EB%A7%814_%EB%84%A4%EC%9D%B4%EB%B2%84_%EC%9E%90%EB%8F%99_%EB%A1%9C%EA%B7%B8%EC%9D%B8_%EB%B0%8F_%EB%A9%94%EC%9D%BC_%EC%A0%95%EB%B3%B4_%EA%B0%80%EC%A0%B8%EC%98%A4%EA%B8%B0.ipynb\" target=\"_parent\"><img src=\"https://colab.research.google.com/assets/colab-badge.svg\" alt=\"Open In Colab\"/></a>"
      ]
    },
    {
      "cell_type": "code",
      "execution_count": 1,
      "id": "b94b315f",
      "metadata": {
        "id": "b94b315f",
        "outputId": "7e5462f7-5ff5-4e56-d222-c8993ad522b5",
        "collapsed": true,
        "colab": {
          "base_uri": "https://localhost:8080/",
          "height": 391
        }
      },
      "outputs": [
        {
          "output_type": "error",
          "ename": "ModuleNotFoundError",
          "evalue": "ignored",
          "traceback": [
            "\u001b[0;31m---------------------------------------------------------------------------\u001b[0m",
            "\u001b[0;31mModuleNotFoundError\u001b[0m                       Traceback (most recent call last)",
            "\u001b[0;32m<ipython-input-1-ac04798a9a4c>\u001b[0m in \u001b[0;36m<module>\u001b[0;34m\u001b[0m\n\u001b[1;32m      1\u001b[0m \u001b[0;31m# 자동화 테스트를 위해 셀레니움(Selenium)을 불러옵니다.\u001b[0m\u001b[0;34m\u001b[0m\u001b[0;34m\u001b[0m\u001b[0;34m\u001b[0m\u001b[0m\n\u001b[0;32m----> 2\u001b[0;31m \u001b[0;32mfrom\u001b[0m \u001b[0mselenium\u001b[0m \u001b[0;32mimport\u001b[0m \u001b[0mwebdriver\u001b[0m\u001b[0;34m\u001b[0m\u001b[0;34m\u001b[0m\u001b[0m\n\u001b[0m\u001b[1;32m      3\u001b[0m \u001b[0;32mfrom\u001b[0m \u001b[0mtime\u001b[0m \u001b[0;32mimport\u001b[0m \u001b[0msleep\u001b[0m\u001b[0;34m\u001b[0m\u001b[0;34m\u001b[0m\u001b[0m\n\u001b[1;32m      4\u001b[0m \u001b[0;32mfrom\u001b[0m \u001b[0mselenium\u001b[0m\u001b[0;34m.\u001b[0m\u001b[0mwebdriver\u001b[0m\u001b[0;34m.\u001b[0m\u001b[0mcommon\u001b[0m\u001b[0;34m.\u001b[0m\u001b[0mby\u001b[0m \u001b[0;32mimport\u001b[0m \u001b[0mBy\u001b[0m\u001b[0;34m\u001b[0m\u001b[0;34m\u001b[0m\u001b[0m\n\u001b[1;32m      5\u001b[0m \u001b[0;31m# 크롬 웹 드라이버의 경로를 설정합니다.\u001b[0m\u001b[0;34m\u001b[0m\u001b[0;34m\u001b[0m\u001b[0;34m\u001b[0m\u001b[0m\n",
            "\u001b[0;31mModuleNotFoundError\u001b[0m: No module named 'selenium'",
            "",
            "\u001b[0;31m---------------------------------------------------------------------------\u001b[0;32m\nNOTE: If your import is failing due to a missing package, you can\nmanually install dependencies using either !pip or !apt.\n\nTo view examples of installing some common dependencies, click the\n\"Open Examples\" button below.\n\u001b[0;31m---------------------------------------------------------------------------\u001b[0m\n"
          ],
          "errorDetails": {
            "actions": [
              {
                "action": "open_url",
                "actionText": "Open Examples",
                "url": "/notebooks/snippets/importing_libraries.ipynb"
              }
            ]
          }
        }
      ],
      "source": [
        "# 자동화 테스트를 위해 셀레니움(Selenium)을 불러옵니다.\n",
        "from selenium import webdriver\n",
        "from time import sleep\n",
        "from selenium.webdriver.common.by import By\n",
        "# 크롬 웹 드라이버의 경로를 설정합니다.\n",
        "driver = webdriver.Chrome('C:\\Chrome_Driver\\chromedriver.exe')\n",
        "\n",
        "# 크롬을 통해 네이버 로그인 화면에 접속합니다.\n",
        "driver.get('https://nid.naver.com/nidlogin.login')"
      ]
    },
    {
      "cell_type": "code",
      "execution_count": null,
      "id": "b7916760",
      "metadata": {
        "id": "b7916760"
      },
      "outputs": [],
      "source": [
        "# 아이디와 비밀번호를 입력합니다. (0.5초씩 기다리기)\n",
        "sleep(0.5)\n",
        "driver.find_element(By.NAME, 'id').send_keys('*****')\n",
        "sleep(0.5)\n",
        "driver.find_element(By.NAME, 'pw').send_keys('******!')"
      ]
    },
    {
      "cell_type": "code",
      "execution_count": null,
      "id": "1276ec24",
      "metadata": {
        "id": "1276ec24"
      },
      "outputs": [],
      "source": [
        "# XPath를 이용해 로그인을 시도합니다.\n",
        "driver.find_element(By.XPATH, '//*[@id=\"log.login\"]').click()"
      ]
    },
    {
      "cell_type": "code",
      "execution_count": null,
      "id": "bd801225",
      "metadata": {
        "id": "bd801225"
      },
      "outputs": [],
      "source": [
        "# 웹 페이지의 소스코드를 파싱하기 위해 Beautiful Soup 라이브러리를 불러옵니다.\n",
        "from bs4 import BeautifulSoup\n",
        "\n",
        "driver.get('https://mail.naver.com/')\n",
        "html = driver.page_source\n",
        "soup = BeautifulSoup(html, 'lxml')\n",
        "\n",
        "# 메일 제목을 하나씩 파싱합니다.\n",
        "title_list=soup.find_all('div', 'mail_title')\n",
        "\n",
        "# 모든 메일 제목을 출력합니다.\n",
        "for title in title_list:\n",
        "    print(title.text)"
      ]
    }
  ],
  "metadata": {
    "kernelspec": {
      "display_name": "Python 3 (ipykernel)",
      "language": "python",
      "name": "python3"
    },
    "language_info": {
      "codemirror_mode": {
        "name": "ipython",
        "version": 3
      },
      "file_extension": ".py",
      "mimetype": "text/x-python",
      "name": "python",
      "nbconvert_exporter": "python",
      "pygments_lexer": "ipython3",
      "version": "3.11.2"
    },
    "colab": {
      "provenance": [],
      "include_colab_link": true
    }
  },
  "nbformat": 4,
  "nbformat_minor": 5
}