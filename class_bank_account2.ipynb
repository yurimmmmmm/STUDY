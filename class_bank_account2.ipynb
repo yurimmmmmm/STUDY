{
  "nbformat": 4,
  "nbformat_minor": 0,
  "metadata": {
    "colab": {
      "provenance": [],
      "authorship_tag": "ABX9TyPlU0ewK1I0GhTpEdafWwG6",
      "include_colab_link": true
    },
    "kernelspec": {
      "name": "python3",
      "display_name": "Python 3"
    },
    "language_info": {
      "name": "python"
    }
  },
  "cells": [
    {
      "cell_type": "markdown",
      "metadata": {
        "id": "view-in-github",
        "colab_type": "text"
      },
      "source": [
        "<a href=\"https://colab.research.google.com/github/yurimmmmmm/STUDY/blob/main/class_bank_account2.ipynb\" target=\"_parent\"><img src=\"https://colab.research.google.com/assets/colab-badge.svg\" alt=\"Open In Colab\"/></a>"
      ]
    },
    {
      "cell_type": "code",
      "source": [
        "class Bank:\n",
        "    def __init__(self, b_name, b_money):\n",
        "        self.name=b_name\n",
        "        self.money=b_money\n",
        "    def print_money(self):\n",
        "        print('bank:', self.name, self.money)"
      ],
      "metadata": {
        "id": "wmzx-jLBllIY"
      },
      "execution_count": null,
      "outputs": []
    },
    {
      "cell_type": "code",
      "execution_count": null,
      "metadata": {
        "id": "tqzxbc9klCm6"
      },
      "outputs": [],
      "source": [
        "class Bank_a:\n",
        "    def __init__(self,name,money):\n",
        "        self.name=name\n",
        "        self.money=money\n",
        "    def in_(self,money):\n",
        "        self.money+=money\n",
        "        self.print_money()\n",
        "    def out_(self,money):\n",
        "        self.money-=money\n",
        "        self.print_money()\n",
        "    def print_money(self):\n",
        "        print(self.name, self.money)"
      ]
    },
    {
      "cell_type": "code",
      "source": [
        "##main##\n",
        "A=Bank_a('k',1000)\n",
        "A.print_money()\n",
        "A.in_(100)\n",
        "A.out_(200)\n",
        "B=Bank_a('j',1000)\n",
        "B.print_money()\n",
        "B.in_(100)\n",
        "B.out_(200)"
      ],
      "metadata": {
        "colab": {
          "base_uri": "https://localhost:8080/"
        },
        "id": "xgI-NZAslIKZ",
        "outputId": "628aac9a-3416-442a-ae67-93fd4b6cc976"
      },
      "execution_count": null,
      "outputs": [
        {
          "output_type": "stream",
          "name": "stdout",
          "text": [
            "k 1000\n",
            "k 1100\n",
            "k 900\n",
            "j 1000\n",
            "j 1100\n",
            "j 900\n"
          ]
        }
      ]
    },
    {
      "cell_type": "code",
      "source": [
        "##main##\n",
        "KB=Bank('KB', 100)\n",
        "U=Bank('U',100)\n",
        "A=Bank_a(KB, 'k', 1000)\n",
        "A.print_money()\n",
        "KB.print_money()"
      ],
      "metadata": {
        "id": "1VFkm1Hjlr8S",
        "outputId": "f2802219-a755-43aa-9da9-b483dc6d28fa",
        "colab": {
          "base_uri": "https://localhost:8080/",
          "height": 246
        }
      },
      "execution_count": null,
      "outputs": [
        {
          "output_type": "error",
          "ename": "TypeError",
          "evalue": "ignored",
          "traceback": [
            "\u001b[0;31m---------------------------------------------------------------------------\u001b[0m",
            "\u001b[0;31mTypeError\u001b[0m                                 Traceback (most recent call last)",
            "\u001b[0;32m<ipython-input-4-96ff2c4428f5>\u001b[0m in \u001b[0;36m<module>\u001b[0;34m\u001b[0m\n\u001b[1;32m      2\u001b[0m \u001b[0mKB\u001b[0m\u001b[0;34m=\u001b[0m\u001b[0mBank\u001b[0m\u001b[0;34m(\u001b[0m\u001b[0;34m'KB'\u001b[0m\u001b[0;34m,\u001b[0m \u001b[0;36m100\u001b[0m\u001b[0;34m)\u001b[0m\u001b[0;34m\u001b[0m\u001b[0;34m\u001b[0m\u001b[0m\n\u001b[1;32m      3\u001b[0m \u001b[0mU\u001b[0m\u001b[0;34m=\u001b[0m\u001b[0mBank\u001b[0m\u001b[0;34m(\u001b[0m\u001b[0;34m'U'\u001b[0m\u001b[0;34m,\u001b[0m\u001b[0;36m100\u001b[0m\u001b[0;34m)\u001b[0m\u001b[0;34m\u001b[0m\u001b[0;34m\u001b[0m\u001b[0m\n\u001b[0;32m----> 4\u001b[0;31m \u001b[0mA\u001b[0m\u001b[0;34m=\u001b[0m\u001b[0mBank_a\u001b[0m\u001b[0;34m(\u001b[0m\u001b[0mKB\u001b[0m\u001b[0;34m,\u001b[0m\u001b[0;34m'k'\u001b[0m\u001b[0;34m,\u001b[0m \u001b[0;36m1000\u001b[0m\u001b[0;34m)\u001b[0m\u001b[0;34m\u001b[0m\u001b[0;34m\u001b[0m\u001b[0m\n\u001b[0m\u001b[1;32m      5\u001b[0m \u001b[0mA\u001b[0m\u001b[0;34m.\u001b[0m\u001b[0mprint_money\u001b[0m\u001b[0;34m(\u001b[0m\u001b[0;34m)\u001b[0m\u001b[0;34m\u001b[0m\u001b[0;34m\u001b[0m\u001b[0m\n\u001b[1;32m      6\u001b[0m \u001b[0mKB\u001b[0m\u001b[0;34m.\u001b[0m\u001b[0mprint_money\u001b[0m\u001b[0;34m(\u001b[0m\u001b[0;34m)\u001b[0m\u001b[0;34m\u001b[0m\u001b[0;34m\u001b[0m\u001b[0m\n",
            "\u001b[0;31mTypeError\u001b[0m: __init__() takes 3 positional arguments but 4 were given"
          ]
        }
      ]
    }
  ]
}