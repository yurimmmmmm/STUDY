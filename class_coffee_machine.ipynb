{
  "nbformat": 4,
  "nbformat_minor": 0,
  "metadata": {
    "colab": {
      "provenance": [],
      "authorship_tag": "ABX9TyMaYKVoz/vdz1wIKpM0we02",
      "include_colab_link": true
    },
    "kernelspec": {
      "name": "python3",
      "display_name": "Python 3"
    },
    "language_info": {
      "name": "python"
    }
  },
  "cells": [
    {
      "cell_type": "markdown",
      "metadata": {
        "id": "view-in-github",
        "colab_type": "text"
      },
      "source": [
        "<a href=\"https://colab.research.google.com/github/yurimmmmmm/STUDY/blob/main/class_coffee_machine.ipynb\" target=\"_parent\"><img src=\"https://colab.research.google.com/assets/colab-badge.svg\" alt=\"Open In Colab\"/></a>"
      ]
    },
    {
      "cell_type": "code",
      "execution_count": 2,
      "metadata": {
        "id": "3Duo3l-RkNQh"
      },
      "outputs": [],
      "source": [
        "class Counter:\n",
        "    def __init__(self):\n",
        "        self.coffee=10\n",
        "        self.juice=10\n",
        "        self.money=0\n",
        "    def user(self,A,B):\n",
        "        self.coffee=self.coffee-A\n",
        "        self.juice=self.juice-B\n",
        "    def moneyi(self,A,B):\n",
        "        self.money+=self.money+(1000*A+1000*B)\n",
        "    def check_coffee(self):\n",
        "        return self.coffee\n",
        "    def check_juice(self):\n",
        "        return self.juice\n",
        "    def check_money(self):\n",
        "        return self.money"
      ]
    },
    {
      "cell_type": "code",
      "source": [
        "b= Counter()\n",
        "b.user(2,2)\n",
        "b.moneyi(2,2)\n",
        "print(b.check_coffee(),b.check_juice(),b.check_money())"
      ],
      "metadata": {
        "colab": {
          "base_uri": "https://localhost:8080/"
        },
        "id": "hhar04C3kXvj",
        "outputId": "5131e1c7-f7ff-44e7-ffcf-aa01d3772186"
      },
      "execution_count": 3,
      "outputs": [
        {
          "output_type": "stream",
          "name": "stdout",
          "text": [
            "8 8 4000\n"
          ]
        }
      ]
    }
  ]
}