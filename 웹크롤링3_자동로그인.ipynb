{
  "cells": [
    {
      "cell_type": "markdown",
      "metadata": {
        "id": "view-in-github",
        "colab_type": "text"
      },
      "source": [
        "<a href=\"https://colab.research.google.com/github/yurimmmmmm/STUDY/blob/main/%EC%9B%B9%ED%81%AC%EB%A1%A4%EB%A7%813_%EC%9E%90%EB%8F%99%EB%A1%9C%EA%B7%B8%EC%9D%B8.ipynb\" target=\"_parent\"><img src=\"https://colab.research.google.com/assets/colab-badge.svg\" alt=\"Open In Colab\"/></a>"
      ]
    },
    {
      "cell_type": "code",
      "execution_count": null,
      "id": "13bde963",
      "metadata": {
        "colab": {
          "base_uri": "https://localhost:8080/"
        },
        "id": "13bde963",
        "outputId": "e41fd139-942c-40a2-d773-bde557c555d2"
      },
      "outputs": [
        {
          "output_type": "stream",
          "name": "stdout",
          "text": [
            "<script>\n",
            "location.href='../main.jsp';\n",
            "</script>\n",
            "\n"
          ]
        }
      ],
      "source": [
        "import requests\n",
        "from bs4 import BeautifulSoup as bs\n",
        "\n",
        "MEMBER_DATA= {\n",
        "    'memberID' : 'abcc',\n",
        "    'memberPassword' : 'abcc'\n",
        "}\n",
        "\n",
        "#하나의 세션 객체를 일시적으로 유지합니다.\n",
        "with requests.Session() as s:\n",
        "    #로그인 페이지로의 post 요청(Request) 객체를 생성\n",
        "    request=s.post('http://dowellcomputer.com/member/memberLoginAction.jsp', data=MEMBER_DATA)\n",
        "    \n",
        "print(request.text)\n"
      ]
    },
    {
      "cell_type": "code",
      "execution_count": null,
      "id": "fc317b18",
      "metadata": {
        "colab": {
          "base_uri": "https://localhost:8080/"
        },
        "id": "fc317b18",
        "outputId": "18095dae-5a13-4bf3-dae0-bb1a5411a6ed"
      },
      "outputs": [
        {
          "output_type": "stream",
          "name": "stdout",
          "text": [
            "http://dowellcomputer.com/member/memberUpdateForm.jsp?ID=abcc \n",
            "\n",
            "yyy@naver.com\n",
            "\n",
            "****************************************************\n",
            "\n",
            "궁금증 해결: http://dowellcomputer.com/member/memberUpdateForm.jsp?ID=abcc&password=oa%3Aaa&dd=ii%3Dee%2Bcc\n"
          ]
        }
      ],
      "source": [
        "#나동빈 ver.\n",
        "\n",
        "#request = s.get('http://dowellcomputer.com/member/memberUpdateForm.jsp?ID=abcc')\n",
        "#print(request.text)\n",
        "\n",
        "#이유림 ver.\n",
        "id_data = {\"ID\" : 'abcc'}\n",
        "request1 = s.get('http://dowellcomputer.com/member/memberUpdateForm.jsp?', params=id_data)\n",
        "print(request1.url,\"\\n\")\n",
        "soup = bs(request1.text, 'html.parser')\n",
        "result = soup.findAll('input', {'name': \"memberEmail\"})\n",
        "print(result[0].get('value'))\n",
        "print(\"\\n****************************************************\")\n",
        "\n",
        "#궁금증 해결\n",
        "aa_data = {\"ID\" : 'abcc', \"password\" : \"oa:aa\", \"dd\" : \"ii=ee+cc\"}\n",
        "request2 = s.get('http://dowellcomputer.com/member/memberUpdateForm.jsp?', params=aa_data)\n",
        "print(\"\\n궁금증 해결:\", request2.url)\n"
      ]
    }
  ],
  "metadata": {
    "kernelspec": {
      "display_name": "Python 3 (ipykernel)",
      "language": "python",
      "name": "python3"
    },
    "language_info": {
      "codemirror_mode": {
        "name": "ipython",
        "version": 3
      },
      "file_extension": ".py",
      "mimetype": "text/x-python",
      "name": "python",
      "nbconvert_exporter": "python",
      "pygments_lexer": "ipython3",
      "version": "3.11.2"
    },
    "colab": {
      "provenance": [],
      "include_colab_link": true
    }
  },
  "nbformat": 4,
  "nbformat_minor": 5
}