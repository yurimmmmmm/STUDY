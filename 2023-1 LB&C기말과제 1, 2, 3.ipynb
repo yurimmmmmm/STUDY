{
 "cells": [
  {
   "cell_type": "code",
   "execution_count": 6,
   "id": "2229fa64",
   "metadata": {},
   "outputs": [],
   "source": [
    "import os, re\n",
    "from collections import Counter\n",
    "os.makedirs('.Q1_Out', exist_ok = True)"
   ]
  },
  {
   "cell_type": "code",
   "execution_count": null,
   "id": "5143cfd5",
   "metadata": {},
   "outputs": [],
   "source": [
    "# 1번"
   ]
  },
  {
   "cell_type": "code",
   "execution_count": 2,
   "id": "026152cf",
   "metadata": {},
   "outputs": [],
   "source": [
    "i = open('.\\\\Q1.txt', encoding = 'utf8').read().splitlines(True)\n",
    "file = [i for i in open('.\\\\Q1.txt', encoding = 'utf8').read().splitlines()]; file\n",
    "names = [j for u in file for j in re.findall('([가-힣]+)/', u)] \n",
    "for name in set(names):\n",
    "    name_Text = [re.sub('[▶▷가-힣 /]+'+': ', '', text) for text in file if name+'/' in text]\n",
    "    open('.\\\\Q1_Out\\\\'+name+'.txt', 'w', encoding = 'utf8').write('\\n'.join(name_Text))"
   ]
  },
  {
   "cell_type": "code",
   "execution_count": null,
   "id": "ff765bba",
   "metadata": {},
   "outputs": [],
   "source": [
    "# 2번"
   ]
  },
  {
   "cell_type": "code",
   "execution_count": 3,
   "id": "6807e256",
   "metadata": {},
   "outputs": [
    {
     "data": {
      "text/plain": [
       "135273"
      ]
     },
     "execution_count": 3,
     "metadata": {},
     "output_type": "execute_result"
    }
   ],
   "source": [
    "result = set()\n",
    "for foldername in os.listdir('.\\\\Q2'):\n",
    "    word_set = set(i for i in open('.\\\\Q2\\\\' + foldername, encoding='utf8').read().split())\n",
    "    word_set -= set(i for other_foldername in os.listdir('.\\\\Q2') for i in open('.\\\\Q2\\\\' + other_foldername, encoding='utf8').read().split() if other_foldername != foldername)\n",
    "    result |= word_set\n",
    "open('Q2_Out.txt', 'w', encoding='utf8').write('\\n'.join(sorted(result)))"
   ]
  },
  {
   "cell_type": "code",
   "execution_count": null,
   "id": "f5de3cd3",
   "metadata": {},
   "outputs": [],
   "source": [
    "#3번"
   ]
  },
  {
   "cell_type": "code",
   "execution_count": 7,
   "id": "3d319448",
   "metadata": {},
   "outputs": [
    {
     "data": {
      "text/plain": [
       "{'belles_lettres': {'파일수': 4, '어휘 품사수': 9267},\n",
       " 'fiction_adventure': {'파일수': 6, '어휘 품사수': 14119},\n",
       " 'fiction_general': {'파일수': 5, '어휘 품사수': 11576},\n",
       " 'fiction_mystery': {'파일수': 4, '어휘 품사수': 9438},\n",
       " 'fiction_romance': {'파일수': 3, '어휘 품사수': 7365},\n",
       " 'fiction_science': {'파일수': 2, '어휘 품사수': 4781},\n",
       " 'government': {'파일수': 8, '어휘 품사수': 18794},\n",
       " 'hobbies': {'파일수': 5, '어휘 품사수': 11630},\n",
       " 'humor': {'파일수': 3, '어휘 품사수': 7019},\n",
       " 'learned': {'파일수': 10, '어휘 품사수': 22964}}"
      ]
     },
     "execution_count": 7,
     "metadata": {},
     "output_type": "execute_result"
    }
   ],
   "source": [
    "genre_num = dict(Counter([re.sub('[0-9]+.txt', '', i) for i in os.listdir('.\\\\Q2')]))\n",
    "liist = [i for i in genre_num.keys()]\n",
    "length_ = []\n",
    "for genre in liist:\n",
    "    words = [j for i in os.listdir('.\\\\Q2') if genre in i for j in open('.\\\\Q2\\\\'+i, encoding = 'utf-8').read().split()]\n",
    "    length_.append(len(words))\n",
    "Q3 = {liist[num]: {'파일수' : genre_num[liist[num]], '어휘 품사수': length_[num]} for num in range(len(liist))}\n",
    "Q3"
   ]
  },
  {
   "cell_type": "code",
   "execution_count": null,
   "id": "5ad07a6f",
   "metadata": {},
   "outputs": [],
   "source": []
  }
 ],
 "metadata": {
  "kernelspec": {
   "display_name": "Python 3 (ipykernel)",
   "language": "python",
   "name": "python3"
  },
  "language_info": {
   "codemirror_mode": {
    "name": "ipython",
    "version": 3
   },
   "file_extension": ".py",
   "mimetype": "text/x-python",
   "name": "python",
   "nbconvert_exporter": "python",
   "pygments_lexer": "ipython3",
   "version": "3.11.2"
  }
 },
 "nbformat": 4,
 "nbformat_minor": 5
}
